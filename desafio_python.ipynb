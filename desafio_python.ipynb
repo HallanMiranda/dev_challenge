{
 "cells": [
  {
   "cell_type": "markdown",
   "metadata": {},
   "source": [
    "Tarefas:\n",
    " - Criar um script em python, \n",
    " - Conter dois pandas dataframe populados com os dados pré-definidos \n",
    " - Deverão ser enviados e salvos em um banco de dados MongoDB,\n",
    " - Unir essas duas collection de acordo com o campo informado.\n",
    "\n",
    "\n",
    "O método SAPE \n",
    "Problema de Negócio (ou tarefa):\n",
    "- Criar um script 2 script, envir e salva em mongo unir com mongoDB,desenvolver uma agregação onde unira essas duas collection de acordo com o campo informado, e realizar estes teste.\n",
    "\n",
    "Saída: ( Produto final )\n",
    "1. A resposta para a pergunta.\n",
    "    - crtiar um scrip\n",
    "2. Formato da entrega\n",
    "    - Arquivos:\n",
    "    • Arquivo Python com os pandas dataframes salvando as informações no banco de dados.\n",
    "    • Agregação criada no MongoDB com os passos descritos neste documento.\n",
    "    • Collections do MongoDB exportadas.\n",
    "    • Arquivo World contendo os questionários respondidos.\n",
    "3. Local da entrega\n",
    "    - GitHub\n",
    "\n",
    "Processo ( Passo a Passo ):\n",
    "1. Passo a passso para construir a tarefa\n",
    "    - Realizar o calculo da mediana sobre o produto, tipo e cor\n",
    "2. Definir o formato da entrega ( Os arquivos mencionados)\n",
    "    \n",
    "3. Decidir o local de entrega ( github, e link ao recrutador )\n",
    "    \n",
    "Entrada ( Fonte de dados ):\n",
    "\n",
    "1. Fonte de dados\n",
    "    - foi fornecido no case\n",
    "2. Ferramentas\n",
    "    - Python 3.8.0\n",
    "    - Bibliotecas pandas, pymongo\n",
    "    - mongoDB Compass\n",
    "    - Jupyter Notebook (VScode )\n",
    " "
   ]
  },
  {
   "cell_type": "markdown",
   "metadata": {},
   "source": [
    "O raciocínio usado para a solução é o seguinte:\n",
    "\n",
    "Primeiro, os dataframes pandas são criados.\n",
    "Em seguida, os dataframes são salvos no MongoDB.\n",
    "Depois, uma agregação é criada no MongoDB. \n",
    "A agregação é usada para combinar as duas coleções \"Carros\" e \"Montadoras\" de acordo com o campo \"Montadora\".\n",
    "A agregação então agrupa os dados pelo campo \"País\" e insere as informações sobre o carro dentro de um elemento chamado \"Carros\".\n",
    "O resultado da agregação é então impresso na saída."
   ]
  },
  {
   "cell_type": "code",
   "execution_count": 2,
   "metadata": {},
   "outputs": [],
   "source": [
    "import pandas as pd\n",
    "import pymongo\n",
    "from pymongo import MongoClient\n",
    "import json\n"
   ]
  },
  {
   "cell_type": "code",
   "execution_count": 2,
   "metadata": {},
   "outputs": [],
   "source": [
    "# Dataframe do carro\n",
    "col_cars = {\n",
    "    'Carro': ['Onix','Polo','Sandero','Fiesta', 'City'],\n",
    "    'Cor': ['Prata','Branco', 'Prata', 'Vermelho','Preto'],\n",
    "    'Montadora': ['Chevrolet','Volkswage','Renolt', 'Ford', 'Honda']\n",
    "}\n",
    "\n",
    "# Dataframe da montadora\n",
    "col_assembler = {\n",
    "    'Montadora': ['Chevrolet', 'Volkswage', 'Renolt', 'Ford', 'Honda'],\n",
    "    'Pais': ['EUA', 'Alemanha','Franca','EUA', 'Japao']\n",
    "}\n",
    "\n",
    "# \n",
    "collection_carros = pd.DataFrame(col_cars)\n",
    "collection_montadoras = pd.DataFrame(col_assembler)\n"
   ]
  },
  {
   "cell_type": "code",
   "execution_count": 3,
   "metadata": {},
   "outputs": [
    {
     "data": {
      "text/plain": [
       "<pymongo.results.InsertManyResult at 0x11b647310>"
      ]
     },
     "execution_count": 3,
     "metadata": {},
     "output_type": "execute_result"
    }
   ],
   "source": [
    "# Conectando ao MongoDB local\n",
    "client = MongoClient('mongodb://localhost:27017/')\n",
    "\n",
    "# Selecionando o banco de dados\n",
    "db = client['seu_banco_de_dados']\n",
    "\n",
    "# Salvando os dataframes nas colections\n",
    "db['Carros'].insert_many(collection_carros.to_dict('records'))\n",
    "db['Montadoras'].insert_many(collection_montadoras.to_dict('records'))\n"
   ]
  },
  {
   "cell_type": "code",
   "execution_count": 6,
   "metadata": {},
   "outputs": [
    {
     "name": "stdout",
     "output_type": "stream",
     "text": [
      "{'Carro': 'Onix', 'Cor': 'Prata', 'Montadora': 'Chevrolet', 'Pais': 'EUA'}\n",
      "{'Carro': 'Onix', 'Cor': 'Prata', 'Montadora': 'Chevrolet', 'Pais': 'EUA'}\n",
      "{'Carro': 'Polo', 'Cor': 'Branco', 'Montadora': 'Volkswage', 'Pais': 'Alemanha'}\n",
      "{'Carro': 'Polo', 'Cor': 'Branco', 'Montadora': 'Volkswage', 'Pais': 'Alemanha'}\n",
      "{'Carro': 'Sandero', 'Cor': 'Prata', 'Montadora': 'Renolt', 'Pais': 'Franca'}\n",
      "{'Carro': 'Sandero', 'Cor': 'Prata', 'Montadora': 'Renolt', 'Pais': 'Franca'}\n",
      "{'Carro': 'Fiesta', 'Cor': 'Vermelho', 'Montadora': 'Ford', 'Pais': 'EUA'}\n",
      "{'Carro': 'Fiesta', 'Cor': 'Vermelho', 'Montadora': 'Ford', 'Pais': 'EUA'}\n",
      "{'Carro': 'City', 'Cor': 'Preto', 'Montadora': 'Honda', 'Pais': 'Japao'}\n",
      "{'Carro': 'City', 'Cor': 'Preto', 'Montadora': 'Honda', 'Pais': 'Japao'}\n",
      "{'Carro': 'Onix', 'Cor': 'Prata', 'Montadora': 'Chevrolet', 'Pais': 'EUA'}\n",
      "{'Carro': 'Onix', 'Cor': 'Prata', 'Montadora': 'Chevrolet', 'Pais': 'EUA'}\n",
      "{'Carro': 'Polo', 'Cor': 'Branco', 'Montadora': 'Volkswage', 'Pais': 'Alemanha'}\n",
      "{'Carro': 'Polo', 'Cor': 'Branco', 'Montadora': 'Volkswage', 'Pais': 'Alemanha'}\n",
      "{'Carro': 'Sandero', 'Cor': 'Prata', 'Montadora': 'Renolt', 'Pais': 'Franca'}\n",
      "{'Carro': 'Sandero', 'Cor': 'Prata', 'Montadora': 'Renolt', 'Pais': 'Franca'}\n",
      "{'Carro': 'Fiesta', 'Cor': 'Vermelho', 'Montadora': 'Ford', 'Pais': 'EUA'}\n",
      "{'Carro': 'Fiesta', 'Cor': 'Vermelho', 'Montadora': 'Ford', 'Pais': 'EUA'}\n",
      "{'Carro': 'City', 'Cor': 'Preto', 'Montadora': 'Honda', 'Pais': 'Japao'}\n",
      "{'Carro': 'City', 'Cor': 'Preto', 'Montadora': 'Honda', 'Pais': 'Japao'}\n"
     ]
    }
   ],
   "source": [
    "# Criando a agregação\n",
    "pipeline = [\n",
    "    {\n",
    "        '$lookup': {\n",
    "            'from': 'Montadoras',\n",
    "            'localField': 'Montadora',\n",
    "            'foreignField': 'Montadora',\n",
    "            'as': 'montadora_info'\n",
    "        }\n",
    "    },\n",
    "    {\n",
    "        '$unwind': '$montadora_info'\n",
    "    },\n",
    "    {\n",
    "        '$project': {\n",
    "            '_id': 0,\n",
    "            'Carro': 1,\n",
    "            'Cor': 1,\n",
    "            'Montadora': 1,\n",
    "            'Pais': '$montadora_info.Pais'\n",
    "        }\n",
    "    }\n",
    "]\n",
    "\n",
    "# Executando a agregação\n",
    "aggregation_result = db['Carros'].aggregate(pipeline)\n",
    "\n",
    "# Imprimindo o resultado\n",
    "for doc in aggregation_result:\n",
    "    print(doc)\n"
   ]
  },
  {
   "cell_type": "code",
   "execution_count": 14,
   "metadata": {},
   "outputs": [],
   "source": [
    "\n",
    "\n",
    "# # Convertendo a agregação em uma string JSON\n",
    "# aggregation_json = json.dumps(list(aggregation_result))\n",
    "\n",
    "# # Salvando a agregação em um arquivo .js\n",
    "# with open('aggregation.js', 'w') as f:\n",
    "#     f.write(aggregation_json)\n"
   ]
  },
  {
   "cell_type": "code",
   "execution_count": 7,
   "metadata": {},
   "outputs": [],
   "source": [
    "\n",
    "\n",
    "# Executando a agregação\n",
    "aggregation_result = db['Carros'].aggregate(pipeline)\n",
    "\n",
    "# Convertendo a agregação em uma lista\n",
    "result_list = list(aggregation_result)\n",
    "\n",
    "# Convertendo a agregação em uma string JSON\n",
    "aggregation_json = json.dumps(result_list)\n",
    "\n",
    "# Salvando a agregação em um arquivo .js\n",
    "with open('aggregation.js', 'w') as f:\n",
    "    f.write(aggregation_json)\n"
   ]
  },
  {
   "cell_type": "code",
   "execution_count": null,
   "metadata": {},
   "outputs": [],
   "source": [
    "\n"
   ]
  },
  {
   "cell_type": "code",
   "execution_count": null,
   "metadata": {},
   "outputs": [],
   "source": []
  }
 ],
 "metadata": {
  "kernelspec": {
   "display_name": "Python 3.10.12 64-bit",
   "language": "python",
   "name": "python3"
  },
  "language_info": {
   "codemirror_mode": {
    "name": "ipython",
    "version": 3
   },
   "file_extension": ".py",
   "mimetype": "text/x-python",
   "name": "python",
   "nbconvert_exporter": "python",
   "pygments_lexer": "ipython3",
   "version": "3.10.12"
  },
  "orig_nbformat": 4,
  "vscode": {
   "interpreter": {
    "hash": "7e1998ff7f8aa20ada591c520b972326324e5ea05489af9e422744c7c09f6dad"
   }
  }
 },
 "nbformat": 4,
 "nbformat_minor": 2
}
